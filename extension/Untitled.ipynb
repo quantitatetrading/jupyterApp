{
 "cells": [
  {
   "cell_type": "code",
   "execution_count": 1,
   "metadata": {},
   "outputs": [
    {
     "data": {
      "application/javascript": [
       "require.config({\n",
       "  paths: {\n",
       "    highcharts: \"http://code.highcharts.com/highcharts\",\n",
       "    highcharts_exports: \"http://code.highcharts.com/modules/exporting\",\n",
       "  },\n",
       "  shim: {\n",
       "    highcharts: {\n",
       "      exports: \"Highcharts\",\n",
       "      deps: [\"jquery\"]\n",
       "    },\n",
       "    highcharts_exports: {\n",
       "      exports: \"Highcharts\",\n",
       "      deps: [\"highcharts\"]\n",
       "    }\n",
       "  }\n",
       "});"
      ],
      "text/plain": [
       "<IPython.core.display.Javascript object>"
      ]
     },
     "metadata": {},
     "output_type": "display_data"
    }
   ],
   "source": [
    "%%javascript\n",
    "require.config({\n",
    "  paths: {\n",
    "    highcharts: \"http://code.highcharts.com/highcharts\",\n",
    "    highcharts_exports: \"http://code.highcharts.com/modules/exporting\",\n",
    "  },\n",
    "  shim: {\n",
    "    highcharts: {\n",
    "      exports: \"Highcharts\",\n",
    "      deps: [\"jquery\"]\n",
    "    },\n",
    "    highcharts_exports: {\n",
    "      exports: \"Highcharts\",\n",
    "      deps: [\"highcharts\"]\n",
    "    }\n",
    "  }\n",
    "});"
   ]
  },
  {
   "cell_type": "code",
   "execution_count": 20,
   "metadata": {},
   "outputs": [],
   "source": [
    "my_data = [1,5,8,3,1,4,5,8,4]\n",
    "my_time = list(range(len(my_data)))"
   ]
  },
  {
   "cell_type": "code",
   "execution_count": 22,
   "metadata": {},
   "outputs": [
    {
     "data": {
      "text/html": [
       "\n",
       "        <html>\n",
       "        <head>\n",
       "        <title>title</title>\n",
       "           <script src=\"https://ajax.googleapis.com/ajax/libs/jquery/2.1.3/jquery.min.js\"></script>\n",
       "           <script src=\"https://code.highcharts.com/stock/highstock.js\"></script>\n",
       "           <script src=\"https://code.highcharts.com/stock/modules/exporting.js\"></script>\n",
       "        </head>\n",
       "        <body>\n",
       "\n",
       "        <div id=\"container2811\" style=\"width: 800px; height: 600px; margin: 125 auto\"></div>\n",
       "\n",
       "        <script language=\"JavaScript\">\n",
       "               var data = [[0, 1], [1, 5], [2, 8], [3, 3], [4, 1], [5, 4], [6, 5], [7, 8], [8, 4]];\n",
       "\n",
       "            Highcharts.stockChart('container2811', {\n",
       "                chart: {\n",
       "                    zoomType: 'x'\n",
       "                },\n",
       "                title: {\n",
       "                    text: 'title'\n",
       "                },\n",
       "                subtitle: {\n",
       "                    text: document.ontouchstart === undefined ?\n",
       "                            'Click and drag in the plot area to zoom in' : 'Pinch the chart to zoom in'\n",
       "                },\n",
       "                xAxis: {\n",
       "                    type: 'datetime', ordinal: false\n",
       "                    \n",
       "                },\n",
       "                yAxis: {\n",
       "                    title: {\n",
       "                        text: 'Y'\n",
       "                    }\n",
       "                },\n",
       "                legend: {\n",
       "                    enabled: false\n",
       "                },\n",
       "\n",
       "                series: [{\n",
       "                    type: 'spline',\n",
       "                    name: 'X',\n",
       "                    data: data\n",
       "                }]\n",
       "            });\n",
       "        </script>\n",
       "\n",
       "        </body>\n",
       "        </html>\n",
       "\n",
       "    "
      ],
      "text/plain": [
       "<IPython.core.display.HTML object>"
      ]
     },
     "metadata": {},
     "output_type": "display_data"
    }
   ],
   "source": [
    "high(my_time, my_data, type=\"high_stock\")"
   ]
  }
 ],
 "metadata": {
  "kernelspec": {
   "display_name": "Python 3",
   "language": "python",
   "name": "python3"
  },
  "language_info": {
   "codemirror_mode": {
    "name": "ipython",
    "version": 3
   },
   "file_extension": ".py",
   "mimetype": "text/x-python",
   "name": "python",
   "nbconvert_exporter": "python",
   "pygments_lexer": "ipython3",
   "version": "3.6.8"
  }
 },
 "nbformat": 4,
 "nbformat_minor": 2
}
